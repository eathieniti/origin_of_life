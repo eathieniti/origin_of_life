{
 "cells": [
  {
   "cell_type": "code",
   "execution_count": 107,
   "metadata": {
    "collapsed": true
   },
   "outputs": [],
   "source": [
    "import numpy as np\n",
    "import matplotlib.pyplot as plt\n",
    "from math import sqrt\n",
    "from scipy.stats import norm"
   ]
  },
  {
   "cell_type": "code",
   "execution_count": 185,
   "metadata": {
    "scrolled": true
   },
   "outputs": [],
   "source": [
    "lip_no = 100\n",
    "dimensions = 20\n",
    "delta = 0.25*100\n",
    "T = 0.1\n",
    "N = 100\n",
    "dt = T/N\n",
    "x = np.empty((2,N+1))\n",
    "y = np.empty((2,N+1))\n",
    "x[:,0] = 0.0\n",
    "y[:,0] = 0.0\n",
    "\n",
    "def brownian(x0, n, dt, delta, out=None):\n",
    "    # File: brownian.py\n",
    "    \n",
    "    #x0 = np.assarray(x0)\n",
    "    \n",
    "    r = norm.rvs(size=x0.shape + (n,), scale=delta*sqrt(dt))\n",
    "    \n",
    "    if out is None:\n",
    "        out = np.empty(r.shape)\n",
    "    \n",
    "    np.cumsum(r, axis=-1, out=out)\n",
    "    \n",
    "    out += np.expand_dims(x0, axis=-1)\n",
    "    return out\n",
    "\n",
    "lip_heads = np.zeros((2, lip_no))\n",
    "lip_tails = np.zeros((2, lip_no))\n",
    "\n",
    "\n",
    "# maybe make sure the same rand. no is not chosen twise\n",
    "for i in range(lip_no):\n",
    "    lip_heads[0, i] = np.random.rand() * dimensions \n",
    "    lip_heads[1, i] = np.random.rand() * dimensions\n",
    "    \n",
    "    rand = np.random.rand()\n",
    "    lip_tails[0, i] = lip_heads[0, i] + 0.4*np.sin(rand * 2 * np.pi)\n",
    "    lip_tails[1, i] = lip_heads[1, i] - 0.4*np.cos(rand * 2 * np.pi)\n",
    "    #lip_tails[0, i] = lip_heads[0, i] + 0.4\n",
    "    #lip_tails[1, i] = lip_heads[1, i] - 0.4\n",
    "\n",
    "lip_heads = np.repeat(lip_heads[:, :, np.newaxis], N+2, axis=2)\n",
    "lip_tails = np.repeat(lip_tails[:, :, np.newaxis], N+2, axis=2)\n",
    "\n",
    "for n in range(lip_no):\n",
    "    init_ = lip_heads[:,n,0]\n",
    "    brownian(init_, N, dt, delta, out=x[:,1:])\n",
    "    lip_heads[:,n,1:] = x\n",
    "    rand = np.random.rand()\n",
    "    lip_tails[0,n,1:] = (lip_heads[0,n,1:] + 0.4*np.sin(rand * 2 * np.pi))\n",
    "    lip_tails[1,n,1:] = (lip_heads[1,n,1:] - 0.4*np.sin(rand * 2 * np.pi))\n",
    "\n",
    "#plt.figure()\n",
    "#plt.title('the red is the end of the tail')\n",
    "#for i in range(lip_no):\n",
    "#    plt.plot([lip_tails[0, i], lip_heads[0, i]], [lip_tails[1, i], lip_heads[1, i]], 'k-')\n",
    "#    plt.plot(lip_tails[0, i], lip_tails[1, i], 'r.')\n",
    "#plt.ylim([0,dimensions])\n",
    "#plt.show()\n",
    "\n",
    "for i in range(1,N):\n",
    "    plt.figure(i-1, figsize=(6,6))\n",
    "    axes = plt.gca()\n",
    "    axes.set_xlim([0,dimensions])\n",
    "    axes.set_ylim([0,dimensions])\n",
    "    plt.plot([lip_tails[0,:,i], lip_heads[0,:,i]], [lip_tails[1,:,i], lip_heads[1,:,i]], 'k-')\n",
    "\n",
    "    for j in range(lip_no):\n",
    "        plt.plot(lip_tails[0,j,i], lip_tails[1,j,i], 'r.')\n",
    "    plt.savefig('plots/continuous_%03d.png'%(i))\n",
    "    #plt.show()\n",
    "    plt.close(i-1)\n"
   ]
  },
  {
   "cell_type": "code",
   "execution_count": 182,
   "metadata": {},
   "outputs": [],
   "source": [
    "plt.show()"
   ]
  },
  {
   "cell_type": "code",
   "execution_count": null,
   "metadata": {},
   "outputs": [],
   "source": []
  },
  {
   "cell_type": "code",
   "execution_count": null,
   "metadata": {
    "collapsed": true
   },
   "outputs": [],
   "source": []
  },
  {
   "cell_type": "code",
   "execution_count": null,
   "metadata": {},
   "outputs": [],
   "source": []
  },
  {
   "cell_type": "code",
   "execution_count": null,
   "metadata": {},
   "outputs": [],
   "source": []
  },
  {
   "cell_type": "code",
   "execution_count": null,
   "metadata": {},
   "outputs": [],
   "source": []
  },
  {
   "cell_type": "code",
   "execution_count": null,
   "metadata": {
    "collapsed": true
   },
   "outputs": [],
   "source": []
  }
 ],
 "metadata": {
  "kernelspec": {
   "display_name": "Python 3",
   "language": "python",
   "name": "python3"
  },
  "language_info": {
   "codemirror_mode": {
    "name": "ipython",
    "version": 2
   },
   "file_extension": ".py",
   "mimetype": "text/x-python",
   "name": "python",
   "nbconvert_exporter": "python",
   "pygments_lexer": "ipython2",
   "version": "2.7.13"
  }
 },
 "nbformat": 4,
 "nbformat_minor": 2
}
