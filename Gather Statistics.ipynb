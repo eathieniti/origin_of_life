{
 "cells": [
  {
   "cell_type": "code",
   "execution_count": 12,
   "metadata": {},
   "outputs": [
    {
     "name": "stdout",
     "output_type": "stream",
     "text": [
      "average object size =  3.6610169491525424\n",
      "median object size =  3.0\n"
     ]
    },
    {
     "data": {
      "image/png": "[encoded data removed]",
      "text/plain": [
       "<Figure size 432x288 with 1 Axes>"
      ]
     },
     "metadata": {},
     "output_type": "display_data"
    },
    {
     "data": {
      "image/png": "[encoded data removed]",
      "text/plain": [
       "<Figure size 432x288 with 1 Axes>"
      ]
     },
     "metadata": {},
     "output_type": "display_data"
    },
    {
     "name": "stdout",
     "output_type": "stream",
     "text": [
      "average object size =  5.01010101010101\n",
      "median object size =  4.0\n"
     ]
    },
    {
     "data": {
      "image/png": "[encoded data removed]",
      "text/plain": [
       "<Figure size 432x288 with 1 Axes>"
      ]
     },
     "metadata": {},
     "output_type": "display_data"
    }
   ],
   "source": [
    "\n",
    "import numpy as np\n",
    "from pylab import *\n",
    "from scipy.ndimage import measurements\n",
    "import imp\n",
    "import utils\n",
    "utils = imp.reload(utils)\n",
    "from utils import calculate_sizes\n",
    "\n",
    "\n",
    "\n",
    "import numpy as np\n",
    "from utils import calculate_sizes\n",
    "\n",
    "lattice_snapshot = np.load('lattice_plots_50_700_100000_0.28_linear/final_lattice.npy')\n",
    "lattice_snapshot = np.load('lattice_plots_50_700_100000_0.28_linear/initial_lattice.npy')\n",
    "\n",
    "fname = \"initial_lattice_loglog_hist.png\"\n",
    "loglog_scale=True\n",
    "calculate_sizes(lattice_snapshot, fname, loglog_scale)\n",
    "plt.show()\n",
    "\n",
    "lattice_snapshot = np.load('lattice_plots_50_700_100000_0.28_linear/final_lattice.npy')\n",
    "\n",
    "fname = \"final_lattice_loglog_hist.png\"\n",
    "loglog_scale=True\n",
    "calculate_sizes(lattice_snapshot, fname, loglog_scale)\n",
    "plt.show()\n"
   ]
  },
  {
   "cell_type": "code",
   "execution_count": 6,
   "metadata": {},
   "outputs": [
    {
     "data": {
      "text/plain": [
       "array([[-1.        , -1.        , -1.        , ..., -1.        ,\n",
       "        -1.        , -1.        ],\n",
       "       [-1.        , -1.        , -1.        , ..., -1.        ,\n",
       "        -1.        , -1.        ],\n",
       "       [-1.        , -1.        , -1.        , ..., -1.        ,\n",
       "        -1.        , -1.        ],\n",
       "       ...,\n",
       "       [-1.        , -1.        , -1.        , ..., -1.        ,\n",
       "         1.52851876, -1.        ],\n",
       "       [-1.        , -1.        , -1.        , ..., -1.        ,\n",
       "        -1.        , -1.        ],\n",
       "       [-1.        , -1.        , -1.        , ..., -1.        ,\n",
       "        -1.        , -1.        ]])"
      ]
     },
     "execution_count": 6,
     "metadata": {},
     "output_type": "execute_result"
    }
   ],
   "source": [
    "lattice_snapshot "
   ]
  },
  {
   "cell_type": "code",
   "execution_count": null,
   "metadata": {
    "collapsed": true
   },
   "outputs": [],
   "source": []
  }
 ],
 "metadata": {
  "kernelspec": {
   "display_name": "Python 3",
   "language": "python",
   "name": "python3"
  },
  "language_info": {
   "codemirror_mode": {
    "name": "ipython",
    "version": 3
   },
   "file_extension": ".py",
   "mimetype": "text/x-python",
   "name": "python",
   "nbconvert_exporter": "python",
   "pygments_lexer": "ipython3",
   "version": "3.5.3"
  }
 },
 "nbformat": 4,
 "nbformat_minor": 2
}
