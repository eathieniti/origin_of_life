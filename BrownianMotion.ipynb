{
 "cells": [
  {
   "cell_type": "code",
   "execution_count": 1,
   "metadata": {},
   "outputs": [],
   "source": [
    "import numpy as np\n",
    "from matplotlib import pyplot as plt\n",
    "import os"
   ]
  },
  {
   "cell_type": "markdown",
   "metadata": {},
   "source": [
    "## Brownian Motion 1"
   ]
  },
  {
   "cell_type": "code",
   "execution_count": 13,
   "metadata": {},
   "outputs": [],
   "source": [
    "os.mkdir('lattice_plots_bm')"
   ]
  },
  {
   "cell_type": "markdown",
   "metadata": {},
   "source": [
    "## Brownian Motion 2\n",
    "\n",
    "This one works"
   ]
  },
  {
   "cell_type": "code",
   "execution_count": 14,
   "metadata": {},
   "outputs": [],
   "source": [
    "\"\"\"\n",
    "brownian() implements one dimensional Brownian motion (i.e. the Wiener process).\n",
    "\"\"\"\n",
    "\n",
    "# File: brownian.py\n",
    "\n",
    "from math import sqrt\n",
    "from scipy.stats import norm\n",
    "import numpy as np\n",
    "\n",
    "\n",
    "def brownian(x0, n, dt, delta, out=None):\n",
    "    \"\"\"\n",
    "    Generate an instance of Brownian motion (i.e. the Wiener process):\n",
    "\n",
    "        X(t) = X(0) + N(0, delta**2 * t; 0, t)\n",
    "\n",
    "    where N(a,b; t0, t1) is a normally distributed random variable with mean a and\n",
    "    variance b.  The parameters t0 and t1 make explicit the statistical\n",
    "    independence of N on different time intervals; that is, if [t0, t1) and\n",
    "    [t2, t3) are disjoint intervals, then N(a, b; t0, t1) and N(a, b; t2, t3)\n",
    "    are independent.\n",
    "    \n",
    "    Written as an iteration scheme,\n",
    "\n",
    "        X(t + dt) = X(t) + N(0, delta**2 * dt; t, t+dt)\n",
    "\n",
    "\n",
    "    If `x0` is an array (or array-like), each value in `x0` is treated as\n",
    "    an initial condition, and the value returned is a numpy array with one\n",
    "    more dimension than `x0`.\n",
    "\n",
    "    Arguments\n",
    "    ---------\n",
    "    x0 : float or numpy array (or something that can be converted to a numpy array\n",
    "         using numpy.asarray(x0)).\n",
    "        The initial condition(s) (i.e. position(s)) of the Brownian motion.\n",
    "    n : int\n",
    "        The number of steps to take.\n",
    "    dt : float\n",
    "        The time step.\n",
    "    delta : float\n",
    "        delta determines the \"speed\" of the Brownian motion.  The random variable\n",
    "        of the position at time t, X(t), has a normal distribution whose mean is\n",
    "        the position at time t=0 and whose variance is delta**2*t.\n",
    "    out : numpy array or None\n",
    "        If `out` is not None, it specifies the array in which to put the\n",
    "        result.  If `out` is None, a new numpy array is created and returned.\n",
    "\n",
    "    Returns\n",
    "    -------\n",
    "    A numpy array of floats with shape `x0.shape + (n,)`.\n",
    "    \n",
    "    Note that the initial value `x0` is not included in the returned array.\n",
    "    \"\"\"\n",
    "\n",
    "    x0 = np.asarray(x0)\n",
    "\n",
    "    # For each element of x0, generate a sample of n numbers from a\n",
    "    # normal distribution.\n",
    "    r = norm.rvs(size=x0.shape + (n,), scale=delta*sqrt(dt))\n",
    "\n",
    "    # If `out` was not given, create an output array.\n",
    "    if out is None:\n",
    "        out = np.empty(r.shape)\n",
    "\n",
    "    # This computes the Brownian motion by forming the cumulative sum of\n",
    "    # the random samples. \n",
    "    np.cumsum(r, axis=-1, out=out)\n",
    "\n",
    "    # Add the initial condition.\n",
    "    out += np.expand_dims(x0, axis=-1)\n",
    "\n",
    "    return out"
   ]
  },
  {
   "cell_type": "code",
   "execution_count": null,
   "metadata": {},
   "outputs": [],
   "source": [
    "\n"
   ]
  },
  {
   "cell_type": "code",
   "execution_count": 15,
   "metadata": {},
   "outputs": [
    {
     "data": {
      "image/png": "[encoded data removed]",
      "text/plain": [
       "<Figure size 432x288 with 1 Axes>"
      ]
     },
     "metadata": {},
     "output_type": "display_data"
    }
   ],
   "source": [
    "import numpy\n",
    "from pylab import plot, show, grid, axis, xlabel, ylabel, title\n",
    "\n",
    "# The Wiener process parameter.\n",
    "delta = 0.25*100\n",
    "# Total time.\n",
    "T = 10.0\n",
    "# Number of steps.\n",
    "N = 10000\n",
    "# Time step size\n",
    "dt = T/N\n",
    "# Initial values of x.\n",
    "x = numpy.empty((2,N+1))\n",
    "x[:, 0] = 0.0\n",
    "\n",
    "brownian(x[:,0], N, dt, delta, out=x[:,1:])\n",
    "\n",
    "    \n",
    "# Plot the 2D trajectory.\n",
    "plot(x[0],x[1])\n",
    "\n",
    "# Mark the start and end points.\n",
    "plot(x[0,0],x[1,0], 'go')\n",
    "plot(x[0,-1], x[1,-1], 'ro')\n",
    "\n",
    "# More plot decorations.\n",
    "title('2D Brownian Motion')\n",
    "xlabel('x', fontsize=16)\n",
    "ylabel('y', fontsize=16)\n",
    "axis('equal')\n",
    "grid(True)\n",
    "show()"
   ]
  },
  {
   "cell_type": "code",
   "execution_count": 16,
   "metadata": {},
   "outputs": [
    {
     "data": {
      "text/plain": [
       "(2, 10001)"
      ]
     },
     "execution_count": 16,
     "metadata": {},
     "output_type": "execute_result"
    }
   ],
   "source": [
    "np.shape(x)\n"
   ]
  },
  {
   "cell_type": "code",
   "execution_count": 17,
   "metadata": {},
   "outputs": [],
   "source": [
    "L=100 # length of array\n",
    "\n",
    "# Create the array of coordinates\n",
    "coords = np.random.rand(2,100)*L\n",
    "coords = np.repeat(coords[:, :, np.newaxis], N+2, axis=2)\n",
    "#coords[0]\n",
    "# coords = position x point_index x N_time_points"
   ]
  },
  {
   "cell_type": "code",
   "execution_count": 18,
   "metadata": {},
   "outputs": [],
   "source": [
    "npoints=100\n",
    "\n",
    "# Calculate the brownian motion for every point independently \n",
    "for n in range(npoints):\n",
    "    init_=coords[:,n,0]\n",
    "    brownian(init_, N, dt, delta, out=x[:,1:])\n",
    "    coords[:,n,1:]=x\n",
    "    "
   ]
  },
  {
   "cell_type": "code",
   "execution_count": null,
   "metadata": {
    "collapsed": true
   },
   "outputs": [],
   "source": []
  },
  {
   "cell_type": "code",
   "execution_count": 19,
   "metadata": {},
   "outputs": [],
   "source": [
    "# Brownian Motion for one point\n",
    "# np.shape(coords)\n",
    "# for i in range(1,N):\n",
    "#     print(coords[:,5,i])"
   ]
  },
  {
   "cell_type": "code",
   "execution_count": null,
   "metadata": {},
   "outputs": [],
   "source": [
    "\n",
    "for i in range(1,N):\n",
    "    plt.figure(i-1, figsize=(6,6))\n",
    "    axes = plt.gca()\n",
    "    axes.set_xlim([0,100])\n",
    "    axes.set_ylim([0,100])\n",
    "    \n",
    "    plt.scatter(coords[0,:,i],coords[1,:,i], color='b')\n",
    "    #plt.arrow(i+0.5 - x*0.5, j+0.5 - y*0.5, x, y, length_includes_head=True, head_width=0.3)\n",
    "    plt.savefig('lattice_plots_bm/lattice_%03d.png'%(i))\n",
    "    plt.close(i-1)"
   ]
  },
  {
   "cell_type": "code",
   "execution_count": null,
   "metadata": {
    "collapsed": true
   },
   "outputs": [],
   "source": [
    "# First attempt, does not work well\n",
    "\n",
    "# N=1000\n",
    "# L=100\n",
    "# coords = np.random.rand(2,100)*L\n",
    "# coords = np.repeat(coords[:, :, np.newaxis], N, axis=2)\n",
    "# #coords[0]\n",
    "\n",
    "\n",
    "# for i in range(1,N):\n",
    "#     plt.figure(i, figsize=(6,6))\n",
    "#     axes = plt.gca()\n",
    "#     axes.set_xlim([0,100])\n",
    "#     axes.set_ylim([0,100])\n",
    "\n",
    "#     # select random position to move\n",
    "#     index_ = np.random.randint(0,np.shape(coords)[1])\n",
    "#     print(index_)\n",
    "#     dx, dy = np.random.normal(size=2)\n",
    "#     coords[:,index_,i] = coords[:,index_,i-1]\n",
    "#     coords[:,index_,i] = coords[0,index_,i]+dx, coords[1,index_,i]+dy\n",
    "    \n",
    "#     plt.scatter(coords[0,:,i],coords[1,:,i], color='b')\n",
    "#     #plt.arrow(i+0.5 - x*0.5, j+0.5 - y*0.5, x, y, length_includes_head=True, head_width=0.3)\n",
    "#     plt.savefig('lattice_plots_bm/lattice_%03d.png'%(i))\n",
    "#     plt.close(i)\n",
    "    \n",
    "    "
   ]
  }
 ],
 "metadata": {
  "kernelspec": {
   "display_name": "Python 3",
   "language": "python",
   "name": "python3"
  },
  "language_info": {
   "codemirror_mode": {
    "name": "ipython",
    "version": 3
   },
   "file_extension": ".py",
   "mimetype": "text/x-python",
   "name": "python",
   "nbconvert_exporter": "python",
   "pygments_lexer": "ipython3",
   "version": "3.5.3"
  }
 },
 "nbformat": 4,
 "nbformat_minor": 2
}
